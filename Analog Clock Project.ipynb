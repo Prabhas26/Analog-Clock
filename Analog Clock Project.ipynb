{
 "cells": [
  {
   "cell_type": "markdown",
   "id": "dd804547",
   "metadata": {},
   "source": [
    "# Analog Clock Using Python"
   ]
  },
  {
   "cell_type": "code",
   "execution_count": 1,
   "id": "34d19589",
   "metadata": {},
   "outputs": [],
   "source": [
    "import tkinter as Tkinter\n",
    "import math\n",
    "import time\n",
    "\n",
    "class Clock(Tkinter.Tk):\n",
    "    def __init__(self):\n",
    "        super().__init__()\n",
    "        self.x = 150  # Center Point x\n",
    "        self.y = 150  # Center Point y\n",
    "        self.length = 50  # Stick Length\n",
    "        self.title(\"Clock\")\n",
    "        self.geometry(\"300x300\")\n",
    "        self.create_canvas()\n",
    "        self.create_background()\n",
    "        self.create_sticks()\n",
    "        self.update_clock()\n",
    "\n",
    "    def create_canvas(self):\n",
    "        self.canvas = Tkinter.Canvas(self, bg='black')\n",
    "        self.canvas.pack(expand='yes', fill='both')\n",
    "\n",
    "    def create_background(self):\n",
    "        try:\n",
    "            self.image = Tkinter.PhotoImage(file='Clock.gif')\n",
    "            self.canvas.create_image(150, 150, image=self.image)\n",
    "        except Tkinter.TclError:\n",
    "            print(\"Background image file not found.\")\n",
    "\n",
    "    def create_sticks(self):\n",
    "        self.sticks = []\n",
    "        for i in range(3):\n",
    "            stick = self.canvas.create_line(self.x, self.y, self.x + self.length, self.y + self.length, width=2, fill='red')\n",
    "            self.sticks.append(stick)\n",
    "\n",
    "    def update_clock(self):\n",
    "        now = time.localtime()\n",
    "        hour = now.tm_hour % 12  # Convert 24-hour format to 12-hour format\n",
    "        minutes = now.tm_min\n",
    "        seconds = now.tm_sec\n",
    "\n",
    "        angles = [(hour * 30 + minutes / 2, minutes * 6, seconds * 6)]  # Convert to degrees\n",
    "        for n, angle in enumerate(angles[0]):\n",
    "            x1, y1 = self.x, self.y\n",
    "            x2 = self.x + self.length * math.cos(math.radians(angle - 90))\n",
    "            y2 = self.y + self.length * math.sin(math.radians(angle - 90))\n",
    "            self.canvas.coords(self.sticks[n], x1, y1, x2, y2)\n",
    "\n",
    "        self.after(1000, self.update_clock)  # Update every second\n",
    "\n",
    "if __name__ == '__main__':\n",
    "    app = Clock()\n",
    "    app.mainloop()\n"
   ]
  }
 ],
 "metadata": {
  "kernelspec": {
   "display_name": "Python 3 (ipykernel)",
   "language": "python",
   "name": "python3"
  },
  "language_info": {
   "codemirror_mode": {
    "name": "ipython",
    "version": 3
   },
   "file_extension": ".py",
   "mimetype": "text/x-python",
   "name": "python",
   "nbconvert_exporter": "python",
   "pygments_lexer": "ipython3",
   "version": "3.11.3"
  }
 },
 "nbformat": 4,
 "nbformat_minor": 5
}
